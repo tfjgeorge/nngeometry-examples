{
 "cells": [
  {
   "cell_type": "markdown",
   "metadata": {},
   "source": [
    "We compare different representations on two datasets/architectures:\n",
    "\n",
    " - A small convnet on MNIST with 1,001 parameters on the full MNIST dataset\n",
    " - A Resnet50 on CIFAR10 with 23,467,722 parameters on 100 CIFAR10 examples\n",
    " \n",
    "In the convnet example, since we do not have so many parameters, we are also able to visualize FIMs."
   ]
  },
  {
   "cell_type": "code",
   "execution_count": null,
   "metadata": {},
   "outputs": [],
   "source": [
    "import torch\n",
    "import torchvision\n",
    "from torchvision import datasets, transforms\n",
    "from torch.utils.data import Subset, DataLoader\n",
    "import torch.nn.functional as tF\n",
    "import torch.nn as nn\n",
    "import time\n",
    "\n",
    "import matplotlib.pyplot as plt\n",
    "\n",
    "\n",
    "from nngeometry.layercollection import LayerCollection\n",
    "from nngeometry.metrics import FIM_MonteCarlo\n",
    "from nngeometry.object.vector import random_pvector\n",
    "\n",
    "from nngeometry.object import PMatDiag, PMatKFAC, PMatEKFAC, PMatLowRank, PMatBlockDiag, PMatQuasiDiag, PMatImplicit, PVector, PMatDense"
   ]
  },
  {
   "cell_type": "markdown",
   "metadata": {},
   "source": [
    "# Small convnet on MNIST"
   ]
  },
  {
   "cell_type": "code",
   "execution_count": null,
   "metadata": {},
   "outputs": [],
   "source": [
    "class ConvNet(nn.Module):\n",
    "    def __init__(self):\n",
    "        super(ConvNet, self).__init__()\n",
    "        self.conv1 = nn.Conv2d(1, 5, 3, 1)\n",
    "        self.conv2 = nn.Conv2d(5, 6, 4, 1)\n",
    "        self.conv3 = nn.Conv2d(6, 7, 3, 1)\n",
    "        self.fc1 = nn.Linear(1*1*7, 10)\n",
    "\n",
    "    def forward(self, x):\n",
    "        x = tF.relu(self.conv1(x))\n",
    "        x = tF.max_pool2d(x, 2, 2)\n",
    "        x = tF.relu(self.conv2(x))\n",
    "        x = tF.max_pool2d(x, 2, 2)\n",
    "        x = tF.relu(self.conv3(x))\n",
    "        x = tF.max_pool2d(x, 2, 2)\n",
    "        x = x.view(-1, 1*1*7)\n",
    "        x = self.fc1(x)\n",
    "        return tF.log_softmax(x, dim=1)\n",
    "\n",
    "trainset = datasets.MNIST(root='/tmp/', train=True, download=True,\n",
    "                           transform=transforms.ToTensor())\n",
    "trainloader = DataLoader(\n",
    "    dataset=trainset,\n",
    "    batch_size=1000,\n",
    "    shuffle=False)\n",
    "    \n",
    "convnet = ConvNet().to('cuda')\n",
    "\n",
    "layer_collection = LayerCollection.from_model(convnet)\n",
    "v = random_pvector(LayerCollection.from_model(convnet), device='cuda')\n",
    "\n",
    "layer_collection.numel()"
   ]
  },
  {
   "cell_type": "code",
   "execution_count": null,
   "metadata": {},
   "outputs": [],
   "source": [
    "def compute_correlation(M):\n",
    "    diag = torch.diag(M)\n",
    "    dM = (diag + diag.mean() / 100) **.5\n",
    "    return torch.abs(M) / dM.unsqueeze(0) / dM.unsqueeze(1)"
   ]
  },
  {
   "cell_type": "code",
   "execution_count": null,
   "metadata": {},
   "outputs": [],
   "source": [
    "# compute timings and display FIMs\n",
    "\n",
    "timings = dict()\n",
    "\n",
    "for repr in [PMatDense, PMatBlockDiag, PMatImplicit, PMatDiag, PMatEKFAC, PMatKFAC, PMatQuasiDiag]:\n",
    "    \n",
    "    timings[repr] = dict()\n",
    "    \n",
    "    time_start = time.time()\n",
    "    F = FIM_MonteCarlo(model=convnet,\n",
    "                       loader=trainloader,\n",
    "                       representation=repr,\n",
    "                       device='cuda')\n",
    "    time_end = time.time()\n",
    "    timings[repr]['init'] = time_end - time_start\n",
    "    \n",
    "    if repr == PMatEKFAC:\n",
    "        time_start = time.time()\n",
    "        F.update_diag(examples=trainloader)\n",
    "        time_end = time.time()\n",
    "        timings[repr]['update_diag'] = time_end - time_start\n",
    "        \n",
    "    time_start = time.time()\n",
    "    F.mv(v)\n",
    "    time_end = time.time()\n",
    "    timings[repr]['Mv'] = time_end - time_start\n",
    "    \n",
    "    time_start = time.time()\n",
    "    F.vTMv(v)\n",
    "    time_end = time.time()\n",
    "    timings[repr]['vTMv'] = time_end - time_start\n",
    "    \n",
    "    time_start = time.time()\n",
    "    F.trace()\n",
    "    time_end = time.time()\n",
    "    timings[repr]['tr'] = time_end - time_start\n",
    "    \n",
    "    try:\n",
    "        time_start = time.time()\n",
    "        F.frobenius_norm()\n",
    "        time_end = time.time()\n",
    "        timings[repr]['frob'] = time_end - time_start\n",
    "    except NotImplementedError:\n",
    "        pass\n",
    "    \n",
    "    try:\n",
    "        time_start = time.time()\n",
    "        F.solve(v)\n",
    "        time_end = time.time()\n",
    "        timings[repr]['solve'] = time_end - time_start\n",
    "    except:\n",
    "        pass\n",
    "    \n",
    "    try:\n",
    "        time_start = time.time()\n",
    "        F_dense = F.get_dense_tensor()\n",
    "        time_end = time.time()\n",
    "        timings[repr]['get_dense'] = time_end - time_start\n",
    "    except:\n",
    "        pass\n",
    "    \n",
    "    try:\n",
    "        repr_name = str(repr).split('.')[-1][:-2]\n",
    "        plt.figure(figsize=(10, 10))\n",
    "        plt.imshow(compute_correlation(F_dense).cpu())\n",
    "        plt.title(repr_name)\n",
    "        plt.savefig('repr_img/'+ repr_name + '.png')\n",
    "        plt.show()\n",
    "        plt.close()\n",
    "        \n",
    "        del F_dense\n",
    "        \n",
    "    except:\n",
    "        pass\n",
    "    \n",
    "    del F"
   ]
  },
  {
   "cell_type": "code",
   "execution_count": null,
   "metadata": {},
   "outputs": [],
   "source": [
    "timings"
   ]
  },
  {
   "cell_type": "markdown",
   "metadata": {},
   "source": [
    "# ResNet50 on CIFAR10"
   ]
  },
  {
   "cell_type": "code",
   "execution_count": null,
   "metadata": {},
   "outputs": [],
   "source": [
    "transform = transforms.Compose(\n",
    "    [transforms.ToTensor(),\n",
    "     transforms.Normalize((0.4914, 0.4822, 0.4465), (0.2023, 0.1994, 0.2010))])\n",
    "\n",
    "trainset = torchvision.datasets.CIFAR10(root='/tmp/data', train=True,\n",
    "                                        download=True, transform=transform)\n",
    "trainset = torch.utils.data.Subset(trainset, range(100))\n",
    "trainloader = torch.utils.data.DataLoader(trainset, batch_size=50,\n",
    "                                          shuffle=False, num_workers=1)"
   ]
  },
  {
   "cell_type": "code",
   "execution_count": null,
   "metadata": {},
   "outputs": [],
   "source": [
    "from resnet import ResNet50\n",
    "resnet = ResNet50().cuda()\n",
    "\n",
    "layer_collection = LayerCollection.from_model(resnet)\n",
    "v = random_pvector(LayerCollection.from_model(resnet), device='cuda')\n",
    "\n",
    "layer_collection.numel()"
   ]
  },
  {
   "cell_type": "code",
   "execution_count": null,
   "metadata": {},
   "outputs": [],
   "source": [
    "# compute timings and display FIMs\n",
    "\n",
    "timings = dict()\n",
    "\n",
    "for repr in [PMatImplicit, PMatDiag, PMatEKFAC, PMatKFAC, PMatQuasiDiag]:\n",
    "    \n",
    "    timings[repr] = dict()\n",
    "    \n",
    "    time_start = time.time()\n",
    "#     F = repr(generator=generator)\n",
    "    F = FIM_MonteCarlo(model=resnet,\n",
    "                        loader=trainloader,\n",
    "                        representation=repr,\n",
    "                        device='cuda')\n",
    "    time_end = time.time()\n",
    "    timings[repr]['init'] = time_end - time_start\n",
    "    \n",
    "    if repr == PMatEKFAC:\n",
    "        time_start = time.time()\n",
    "        F.update_diag(examples=trainloader)\n",
    "        time_end = time.time()\n",
    "        timings[repr]['update_diag'] = time_end - time_start\n",
    "        \n",
    "    time_start = time.time()\n",
    "    F.mv(v)\n",
    "    time_end = time.time()\n",
    "    timings[repr]['Mv'] = time_end - time_start\n",
    "    \n",
    "    time_start = time.time()\n",
    "    F.vTMv(v)\n",
    "    time_end = time.time()\n",
    "    timings[repr]['vTMv'] = time_end - time_start\n",
    "    \n",
    "    time_start = time.time()\n",
    "    F.trace()\n",
    "    time_end = time.time()\n",
    "    timings[repr]['tr'] = time_end - time_start\n",
    "    \n",
    "    try:\n",
    "        time_start = time.time()\n",
    "        F.frobenius_norm()\n",
    "        time_end = time.time()\n",
    "        timings[repr]['frob'] = time_end - time_start\n",
    "    except NotImplementedError:\n",
    "        pass\n",
    "    \n",
    "    try:\n",
    "        time_start = time.time()\n",
    "        F.solve(v)\n",
    "        time_end = time.time()\n",
    "        timings[repr]['solve'] = time_end - time_start\n",
    "    except:\n",
    "        pass\n",
    "    \n",
    "    del F"
   ]
  },
  {
   "cell_type": "code",
   "execution_count": null,
   "metadata": {},
   "outputs": [],
   "source": [
    "timings"
   ]
  }
 ],
 "metadata": {
  "kernelspec": {
   "display_name": "Python 3.7.4 64-bit",
   "language": "python",
   "name": "python3"
  },
  "language_info": {
   "codemirror_mode": {
    "name": "ipython",
    "version": 3
   },
   "file_extension": ".py",
   "mimetype": "text/x-python",
   "name": "python",
   "nbconvert_exporter": "python",
   "pygments_lexer": "ipython3",
   "version": "3.7.4"
  },
  "vscode": {
   "interpreter": {
    "hash": "5f9d388f88208888ce1995e0b804baffba2e0668c48f264d1462dce664578c58"
   }
  }
 },
 "nbformat": 4,
 "nbformat_minor": 4
}
